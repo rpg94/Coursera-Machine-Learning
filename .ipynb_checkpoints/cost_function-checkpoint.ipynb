{
 "cells": [
  {
   "cell_type": "markdown",
   "id": "6e2b81b5-6b78-4d29-be27-395f20314000",
   "metadata": {},
   "source": [
    "Goals:\n",
    "- Implement and explore the `cost` function for linear regression with one variable."
   ]
  },
  {
   "cell_type": "markdown",
   "id": "ef19ed08-6a8c-4d79-8f60-afcf3a6b212a",
   "metadata": {},
   "source": [
    "Tools\n",
    "- NumPy\n",
    "- Matplotlib\n",
    "- local plotting routines in the lab_utils_uni.py file in the local directory"
   ]
  },
  {
   "cell_type": "code",
   "execution_count": null,
   "id": "39711893-61b0-4131-9306-7b9ee1ea45ef",
   "metadata": {},
   "outputs": [],
   "source": [
    "import numpy as np\n",
    "%matplotlib widget\n",
    "import matplotlib.pyplot as plt\n",
    "from lab_utils"
   ]
  }
 ],
 "metadata": {
  "kernelspec": {
   "display_name": "Python 3 (ipykernel)",
   "language": "python",
   "name": "python3"
  },
  "language_info": {
   "codemirror_mode": {
    "name": "ipython",
    "version": 3
   },
   "file_extension": ".py",
   "mimetype": "text/x-python",
   "name": "python",
   "nbconvert_exporter": "python",
   "pygments_lexer": "ipython3",
   "version": "3.11.5"
  }
 },
 "nbformat": 4,
 "nbformat_minor": 5
}
